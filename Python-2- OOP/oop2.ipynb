{
 "cells": [
  {
   "cell_type": "markdown",
   "metadata": {},
   "source": [
    " Encapcullation: Kapsülleme. Aynı amaç için kullanılan değişken ve methodları bir class içinde yazıyor olmsı\n",
    " ve class içinde tanımlanan private attre erişelmiyor olması."
   ]
  },
  {
   "cell_type": "markdown",
   "metadata": {},
   "source": [
    "Abstraction: Soyutlama. Kodların gizliliği ve birbirinde bağımsız çalışmaları."
   ]
  },
  {
   "cell_type": "markdown",
   "metadata": {},
   "source": [
    "Inheritance: Miras Alma. Bir classın tüm özelliklerinin başka bir classa aktarılmasına denir."
   ]
  },
  {
   "cell_type": "markdown",
   "metadata": {},
   "source": [
    "Polymorphism: Miras alınan (inherit edilen) classın özellik/metodlarını yeniden yazılabilyor/değiştirebiliyor olmasına denir."
   ]
  },
  {
   "cell_type": "code",
   "execution_count": 22,
   "metadata": {},
   "outputs": [
    {
     "name": "stdout",
     "output_type": "stream",
     "text": [
      "Personel Olusturuldu.\n",
      "Selim - 34 - 5000 - Male - Clarusway - Fullstack\n"
     ]
    }
   ],
   "source": [
    "class Person:\n",
    "\n",
    "    company = 'Clarusway'\n",
    "\n",
    "    def __init__(self, name, age, gender='Male'):\n",
    "        self.name = name\n",
    "        self.age = age\n",
    "        self.gender = gender\n",
    "        print('Personel Olusturuldu.')\n",
    "\n",
    "    def __str__(self):\n",
    "        return f'{self.name} - {self.age}'\n",
    "\n",
    "    def get_detail(self):\n",
    "        return f\"Adi:{self.name}, \\nYas:{self.age}, \\nSirket:{self.company}, \\nCinsiyet:{self.gender}\"\n",
    "\n",
    "\n",
    "# person_1 = Person('Emir', 22)  # Bir classin atandigi degiskene instance denir.\n",
    "# Bir classtan turetilmis objeye instance denir.\n",
    "# print(person_1)\n",
    "# print(person_1.get_detail())\n",
    "\n",
    "\n",
    "class Department:\n",
    "\n",
    "    def __init__(self):\n",
    "        print('Departman calisti.')\n",
    "\n",
    "    def set_department(self, department):\n",
    "        self.department = department\n",
    "\n",
    "# Inheritance:\n",
    "# JS -> class Employee extends Person\n",
    "\n",
    "\n",
    "class Employee(Person, Department):\n",
    "# Person classinin tum ozellikleri Employee classina aktarildi.\n",
    "\n",
    "    salary = 5000\n",
    "\n",
    "    def set_salary(self, salary):\n",
    "        self.salary = salary\n",
    "\n",
    "    # Override:\n",
    "    def __init__(self, name, age, gender, salary, department='AWS'):\n",
    "        # Super(), inherit ettigimiz ilk class'dan itibaren buldugu ilk methodu cagirir.\n",
    "        super().__init__(name, age, gender)\n",
    "        # Inherit edilen class methodunu calistirma:\n",
    "        # super() kullanmiyor isek self parametresi gosterilmelidir.\n",
    "        Department.set_department(self, department)\n",
    "        self.departments = department\n",
    "\n",
    "    # Polymorphism (Override, Overload)\n",
    "    # Mevcut bir methodu tekrar tanımlama imkanına \"Polymorphism\" denir.\n",
    "    # Yeni methodun eski methodu ezmesine \"override\" denir.\n",
    "    # Yeni method ile eski methodun aynı anda aktif olmasına da \"overload\" denir.\n",
    "    # Python \"overload\" desteklemez.    \n",
    "    def get_detail(self):\n",
    "        return f'{self.name} - {self.age} - {self.salary} - {self.gender} - {self.company} - {self.department}'\n",
    "\n",
    "# person_1 = Employee('Busra', 29, 'Female')\n",
    "# person_1.set_salary(3000)\n",
    "# print(person_1.get_detail())\n",
    "\n",
    "\n",
    "person_1 = Employee('Selim', 34, 'Male', 1500, 'Fullstack')\n",
    "# person_1.set_department('FullStack')\n",
    "print(person_1.get_detail())\n"
   ]
  },
  {
   "cell_type": "code",
   "execution_count": null,
   "metadata": {},
   "outputs": [],
   "source": []
  }
 ],
 "metadata": {
  "kernelspec": {
   "display_name": "Python 3",
   "language": "python",
   "name": "python3"
  },
  "language_info": {
   "codemirror_mode": {
    "name": "ipython",
    "version": 3
   },
   "file_extension": ".py",
   "mimetype": "text/x-python",
   "name": "python",
   "nbconvert_exporter": "python",
   "pygments_lexer": "ipython3",
   "version": "3.11.3"
  }
 },
 "nbformat": 4,
 "nbformat_minor": 2
}
