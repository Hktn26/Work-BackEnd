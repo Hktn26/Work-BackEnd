{
 "cells": [
  {
   "cell_type": "markdown",
   "metadata": {},
   "source": [
    "<h4>Python -- OOP</h4>\n"
   ]
  },
  {
   "cell_type": "markdown",
   "metadata": {},
   "source": [
    "<h7>OOP = Object Oriented Programming</h7>\n"
   ]
  },
  {
   "cell_type": "markdown",
   "metadata": {},
   "source": [
    "Classes => BluePrint: Mimarlarin kullandigi mavi sablon kagididir. Obje orada tanimlanmaktadir.\n"
   ]
  },
  {
   "cell_type": "markdown",
   "metadata": {},
   "source": [
    "DRY: Don't Repeat Yourself\n"
   ]
  },
  {
   "cell_type": "code",
   "execution_count": 2,
   "metadata": {},
   "outputs": [
    {
     "name": "stdout",
     "output_type": "stream",
     "text": [
      "Qadir <class 'str'>\n",
      "123 <class 'int'>\n",
      "123.45 <class 'float'>\n",
      "True <class 'bool'>\n",
      "(1, 2, 3) <class 'tuple'>\n",
      "[1, 2, 3] <class 'list'>\n",
      "<function <lambda> at 0x00000231C90893A0> <class 'function'>\n"
     ]
    }
   ],
   "source": [
    "def print_type(data_list):\n",
    "    for data in data_list:\n",
    "        print(data, type(data))\n",
    "\n",
    "\n",
    "print_type(['Qadir', 123, 123.45, True, (1, 2, 3), [1, 2, 3], lambda x:x])\n"
   ]
  },
  {
   "cell_type": "markdown",
   "metadata": {},
   "source": [
    "Python'da Class Olusturma:\n"
   ]
  },
  {
   "cell_type": "markdown",
   "metadata": {},
   "source": [
    "Python'da sınıflar, birbiriyle ilişkili verileri ve işlevleri tek bir birimde gruplandırmak için kullanılır. Sınıflar, verileri ve işlevleri organize etmenin ve kodun okunabilirliğini ve sürdürülebilirliğini artırmanın bir yoludur."
   ]
  },
  {
   "cell_type": "code",
   "execution_count": 3,
   "metadata": {},
   "outputs": [],
   "source": [
    "class ClassName:  # PascalCasse yapida isimlendirilir.\n",
    "    veriable_for_class = 'value'  # Attribute/ Property\n",
    "\n",
    "    # if (Conditions) ... # Wrong Using.\n",
    "\n",
    "    def example_function(prametre, arguman):  # Method\n",
    "\n",
    "        veriable_for_func = 'value'  # Parmatre\n",
    "\n",
    "        # if (Conditions)...\n"
   ]
  },
  {
   "cell_type": "code",
   "execution_count": 8,
   "metadata": {},
   "outputs": [
    {
     "name": "stdout",
     "output_type": "stream",
     "text": [
      "<class '__main__.Person'>\n",
      "Emir\n",
      "Coskuner\n"
     ]
    }
   ],
   "source": [
    "class Person:\n",
    "    name = 'Emir'\n",
    "    surname = 'Coskuner'\n",
    "\n",
    "\n",
    "print(Person)\n",
    "print(Person.name)\n",
    "print(Person.surname)\n"
   ]
  },
  {
   "cell_type": "code",
   "execution_count": 13,
   "metadata": {},
   "outputs": [
    {
     "name": "stdout",
     "output_type": "stream",
     "text": [
      "<__main__.Person object at 0x00000231C90AB310>\n",
      "Emir\n",
      "Coskuner\n"
     ]
    }
   ],
   "source": [
    "# Set Object from Class:\n",
    "personel = Person()  # Instance => Classtan olusturulmus obje\n",
    "print(personel)\n",
    "print(personel.name)\n",
    "print(personel.surname)\n"
   ]
  },
  {
   "cell_type": "code",
   "execution_count": 20,
   "metadata": {},
   "outputs": [
    {
     "name": "stdout",
     "output_type": "stream",
     "text": [
      "------------------\n",
      "Rafe\n",
      "Stefano\n",
      "40\n",
      "------------------\n",
      "Emir\n",
      "Coskuner\n"
     ]
    }
   ],
   "source": [
    "# instance de yaptigimiz degisiklikler class'i etkilemez.\n",
    "personel.name = 'Rafe'\n",
    "personel.surname = 'Stefano'\n",
    "personel.age = 40\n",
    "\n",
    "print('------------------')  # instance degisir.\n",
    "print(personel.name)\n",
    "print(personel.surname)\n",
    "print(personel.age)\n",
    "print('------------------')  # Orijinali degismez\n",
    "print(Person.name)\n",
    "print(Person.surname)\n",
    "# print(Person.age) Orijinale eklenmez\n"
   ]
  },
  {
   "cell_type": "code",
   "execution_count": 23,
   "metadata": {},
   "outputs": [
    {
     "name": "stdout",
     "output_type": "stream",
     "text": [
      "Emir\n",
      "Rafe\n"
     ]
    }
   ],
   "source": [
    "class Person:\n",
    "    name = 'Emir'\n",
    "    surname = 'Coskuner'\n",
    "\n",
    "\n",
    "personel_1 = Person()\n",
    "print(personel_1.name)\n",
    "Person.name = 'Rafe'  # Orijinalde yapilan degisiklikler instanc'i etkiler.\n",
    "print(personel_1.name)\n"
   ]
  },
  {
   "cell_type": "code",
   "execution_count": 1,
   "metadata": {},
   "outputs": [
    {
     "name": "stdout",
     "output_type": "stream",
     "text": [
      "Emir\n",
      "Emir\n",
      "Rafe\n",
      "Victor\n"
     ]
    }
   ],
   "source": [
    "# Bir instance'daki ekleme/guncelleme diger instance'i ETKILEMEZ\n",
    "\n",
    "class Person:\n",
    "    name = 'Emir'\n",
    "    surname = 'Coskuner'\n",
    "\n",
    "\n",
    "personel_1 = Person()\n",
    "personel_2 = Person()\n",
    "\n",
    "print(personel_1.name) # Emir\n",
    "print(personel_2.name) # Emir\n",
    "\n",
    "personel_1.name = 'Rafe'\n",
    "personel_2.name = 'Victor'\n",
    "print(personel_1.name)  # \"Rafe\"\n",
    "print(personel_2.name)  # \"Victor\"\n",
    "\n",
    "personel_1.age = 40\n",
    "personel_2.path = 'FS'\n",
    "# print(personel_1.age) # \"40\"\n",
    "# print(personel_2.age) # hata\n",
    "\n",
    "# print(personel_1.path) # \"hata\"\n",
    "# print(personel_2.path) # \"FS\"\n"
   ]
  },
  {
   "cell_type": "code",
   "execution_count": 30,
   "metadata": {},
   "outputs": [],
   "source": [
    "class Person:\n",
    "    name = 'Qadir'\n",
    "    surname = 'Adamson'\n",
    "\n",
    "\n",
    "personel = Person  # personel instance değil, class oldu.\n",
    "other_intance = personel()  # Yeni class ile instance oluşturuldu.\n"
   ]
  },
  {
   "cell_type": "code",
   "execution_count": 3,
   "metadata": {},
   "outputs": [
    {
     "name": "stdout",
     "output_type": "stream",
     "text": [
      "Emir Coskuner\n",
      "Rafe Stefano\n"
     ]
    }
   ],
   "source": [
    "class Person:\n",
    "    name = 'Emir'\n",
    "    surname = 'Coskuner'\n",
    "\n",
    "    # this => self\n",
    "    def test(self):\n",
    "        # this yerine self kullaniyoruz.\n",
    "        # self her zaman ilk arguman olmak zorunda.\n",
    "        # Instance'dan method cagirirken self parametresi yollamiyoruz.\n",
    "        print(self.name + \" \" + self.surname)\n",
    "\n",
    "\n",
    "personel = Person()\n",
    "personel.test()\n",
    "personel.name = 'Rafe'\n",
    "personel.surname = 'Stefano'\n",
    "personel.test()  # Arka planda şu şekilde çalışır -> Person.test(personel)\n"
   ]
  },
  {
   "cell_type": "code",
   "execution_count": 5,
   "metadata": {},
   "outputs": [
    {
     "name": "stdout",
     "output_type": "stream",
     "text": [
      "isim: Emir\n",
      "soyisim: Coskuner\n",
      "dogum yeri: Izmir\n",
      "memleket: Eskisehir\n",
      "meslek Bilgisayar Muhendisi\n",
      "\n"
     ]
    }
   ],
   "source": [
    "class Person:\n",
    "    name = 'Emir'\n",
    "    surname = 'Coskuner'\n",
    "    dy = 'Izmir'\n",
    "    memleket = 'Eskisehir'\n",
    "    meslek = 'Bilgisayar Muhendisi'\n",
    "\n",
    "    # this => self\n",
    "    def test(self):\n",
    "        # this yerine self kullaniyoruz.\n",
    "        # self her zaman ilk arguman olmak zorunda.\n",
    "        # Instance'dan method cagirirken self parametresi yollamiyoruz.\n",
    "        print(\"isim: \" + self.name + '\\n'\n",
    "              \"soyisim: \" + self.surname + '\\n'\n",
    "              \"dogum yeri: \" + self.dy + '\\n'\n",
    "              \"memleket: \" + self.memleket + '\\n'\n",
    "              \"meslek \" + self.meslek + '\\n')\n",
    "        # yeni bir satira gecme komutu?\n",
    "\n",
    "\n",
    "personel = Person()\n",
    "personel.test()\n"
   ]
  },
  {
   "cell_type": "markdown",
   "metadata": {},
   "source": [
    "Public/Private Attrs:\n"
   ]
  },
  {
   "cell_type": "code",
   "execution_count": 7,
   "metadata": {},
   "outputs": [
    {
     "name": "stdout",
     "output_type": "stream",
     "text": [
      "Emir\n",
      "FS\n",
      "AWS\n",
      "Germany\n"
     ]
    }
   ],
   "source": [
    "class Person:\n",
    "    name = 'Emir'\n",
    "    surname = 'Coskuner'\n",
    "    # Underscore ile baslayan degiskenlerin instance tarafindan cagirilmamasi/degistirilmemesi beklenir\n",
    "    # Piyasa standartidir. Cagirilabilir/Degistirilebilir\n",
    "    _path = 'FS'\n",
    "\n",
    "    # Double-Underscore ile baslayan degiskenleri disardan cagrilmasini engeller.\n",
    "    # Cagiririsak hata verir.\n",
    "    __location = 'Germany'\n",
    "\n",
    "\n",
    "personel = Person()\n",
    "print(personel.name)\n",
    "print(personel._path)\n",
    "personel._path = 'AWS'\n",
    "print(personel._path)\n",
    "# print(personel.__location) #hata verir\n",
    "print(personel._Person__location)  # Provate attr'e ulasmanin yolu\n",
    "\n",
    "# class ... {\n",
    "#     public var_name #disaridan degistirip disaridan cagirabilirsiniz.\n",
    "#     private var_name #class icinde degistirilir\n",
    "# }\n"
   ]
  },
  {
   "cell_type": "markdown",
   "metadata": {},
   "source": [
    "Getter ve Setter Methodlar:\n"
   ]
  },
  {
   "cell_type": "code",
   "execution_count": 11,
   "metadata": {},
   "outputs": [
    {
     "name": "stdout",
     "output_type": "stream",
     "text": [
      "Germany\n",
      "USA\n"
     ]
    }
   ],
   "source": [
    "class Person:\n",
    "    name = 'Emir'\n",
    "    surname = 'Coskuner'\n",
    "    # Underscore ile baslayan degiskenlerin instance tarafindan cagirilmamasi/degistirilmemesi beklenir\n",
    "    # Piyasa standartidir. Cagirilabilir/Degistirilebilir\n",
    "    _path = 'FS'\n",
    "\n",
    "    # Double-Underscore ile baslayan degiskenleri disardan cagrilmasini engeller.\n",
    "    # Cagiririsak hata verir.\n",
    "    __location = 'Germany'\n",
    "\n",
    "    def get_location(self):  # Getter Method.\n",
    "        return self.__location\n",
    "        # Getter metodu, bir sınıfın özellik değerini almak için kullanılır. Bu metod, genellikle \"get\" anahtar kelimesiyle başlar ve ardından özellik adı gelir.\n",
    "\n",
    "    def set_location(self, new_val):  # Setter Method.\n",
    "        self.__location = new_val\n",
    "        # Setter metodu, bir sınıfın özellik değerini ayarlamak için kullanılır. Bu metod, genellikle \"set\" anahtar kelimesiyle başlar ve ardından özellik adı gelir.\n",
    "\n",
    "\n",
    "personel = Person()\n",
    "print(personel.get_location())\n",
    "personel.set_location('USA')\n",
    "print(personel.get_location())\n",
    "\n",
    "# Getter ve Settor Method ne ise yarar?\n"
   ]
  },
  {
   "cell_type": "markdown",
   "metadata": {},
   "source": [
    "Getter Setter ORNEK\n"
   ]
  },
  {
   "cell_type": "code",
   "execution_count": 5,
   "metadata": {},
   "outputs": [
    {
     "name": "stdout",
     "output_type": "stream",
     "text": [
      "Mail gonderildi mi?:  False\n",
      "Mail gonderildi mi?:  True\n"
     ]
    }
   ],
   "source": [
    "class SendMail:\n",
    "\n",
    "    __is_sent = False\n",
    "\n",
    "    def set_send(self):  # Setter Method.\n",
    "        # Mail gonderme komutlari.\n",
    "        # Mail gonderdikten sonra gonderildi bilgisini True yap.\n",
    "        self.__is_sent = True\n",
    "\n",
    "    def get_status(self):  # Getter Methodu.\n",
    "        # Mail gonderildi mi bilgisini ver.\n",
    "        return self.__is_sent\n",
    "\n",
    "\n",
    "mail = SendMail()\n",
    "# Bu bilgi hangi degiskenden oldugunu bilmiyoruz.\n",
    "print('Mail gonderildi mi?: ', mail.get_status())\n",
    "mail.set_send()\n",
    "print('Mail gonderildi mi?: ', mail.get_status())\n"
   ]
  },
  {
   "cell_type": "code",
   "execution_count": 16,
   "metadata": {},
   "outputs": [
    {
     "name": "stdout",
     "output_type": "stream",
     "text": [
      "160\n",
      "240\n",
      "Hiz değeri negatif olamaz.\n",
      "Toyota Corolla, Hiz: 240 km/saat\n"
     ]
    }
   ],
   "source": [
    "class Araba:\n",
    "    __marka = \"Toyota\"\n",
    "    __model = \"Corolla\"\n",
    "    __hiz = 160\n",
    "\n",
    "    # Getter metodu ile hizi okuma\n",
    "    def get_hiz(self):\n",
    "        return self.__hiz\n",
    "\n",
    "    # Setter metodu ile hizi degistirme\n",
    "    def set_hiz(self, yeni_hiz):\n",
    "        if yeni_hiz >= 0:\n",
    "            self.__hiz = yeni_hiz\n",
    "        else:\n",
    "            print(\"Hiz değeri negatif olamaz.\")\n",
    "\n",
    "    # Araba bilgilerini gosteren bir metot\n",
    "    def araba_bilgileri(self):\n",
    "        return f\"{self.__marka} {self.__model}, Hiz: {self.__hiz} km/saat\"\n",
    "\n",
    "\n",
    "# Araba nesnesi olusturuldu ve bilgilerin gosterilmesi icin calisild\n",
    "araba1 = Araba()\n",
    "\n",
    "# Hizi okuma (Getter kullanimi)\n",
    "print(araba1.get_hiz())\n",
    "# Hizi degistirme (Setter kullanimi)\n",
    "araba1.set_hiz(240)\n",
    "# Bilgilerin tekrar gosterilmasi\n",
    "print(araba1.get_hiz())\n",
    "# Negatif hiz denemesi\n",
    "araba1.set_hiz(-50)\n",
    "# Araba bilgilerini goruntuleme\n",
    "print(araba1.araba_bilgileri())\n"
   ]
  },
  {
   "cell_type": "markdown",
   "metadata": {},
   "source": [
    "Static Method\n"
   ]
  },
  {
   "cell_type": "code",
   "execution_count": 21,
   "metadata": {},
   "outputs": [
    {
     "name": "stdout",
     "output_type": "stream",
     "text": [
      "Hello\n",
      "Hello Emir Haktan\n"
     ]
    }
   ],
   "source": [
    "# Static Method ne ise yarar?\n",
    "\n",
    "# Statik yöntemler, sınıf değişkenlerine veya yöntemlerine erişmek veya değiştirmek için kullanılır. Statik yöntemler, sınıf örneği oluşturmadan çağrılabilir.\n",
    "\n",
    "class Person:\n",
    "    name = 'Emir'\n",
    "    surname = 'Coskuner'\n",
    "\n",
    "    @staticmethod  # (Self kullanmak zorunda kalmadik)\n",
    "    def test():\n",
    "        print(\"Hello\")\n",
    "\n",
    "    @staticmethod  # (Self kullanmak zorunda kalmadik)\n",
    "    def hello(name, surname):\n",
    "        print('Hello ' + name + ' ' + surname)\n",
    "\n",
    "\n",
    "personel = Person()\n",
    "personel.test()\n",
    "personel.hello('Emir', 'Haktan')\n"
   ]
  },
  {
   "cell_type": "code",
   "execution_count": 37,
   "metadata": {},
   "outputs": [
    {
     "name": "stdout",
     "output_type": "stream",
     "text": [
      "Name: John, Age: 30\n",
      "Name: Mary, Age: 25\n",
      "Name: Bob, Age: 40\n"
     ]
    }
   ],
   "source": [
    "class Liste:\n",
    "    def __init__(self, name, age):\n",
    "        self.name = name\n",
    "        self.age = age\n",
    "\n",
    "    @staticmethod\n",
    "    def get_all_persons():\n",
    "        return [Liste(\"John\", 30), Liste(\"Mary\", 25), Liste(\"Bob\", 40)]\n",
    "\n",
    "\n",
    "listem = Liste.get_all_persons()\n",
    "\n",
    "for liste in listem:\n",
    "    print(f\"Name: {liste.name}, Age: {liste.age}\")\n"
   ]
  },
  {
   "cell_type": "markdown",
   "metadata": {},
   "source": [
    "Double-Underscore Methods: DunderMethods: **method**()\n"
   ]
  },
  {
   "cell_type": "code",
   "execution_count": null,
   "metadata": {},
   "outputs": [],
   "source": [
    "# Python icin ozel anlam iceren methodlardir. Isimleri sabittir.\n",
    "\n",
    "# Çift alt çizgiyle başlayan yöntemler, Python'da özel veya gizli yöntemler olarak bilinir. Bu yöntemler, sınıfın dışından erişilemez ve yalnızca sınıfın içinde kullanılabilir. Çift alt çizgiyle başlayan yöntemler, genellikle sınıfın iç durumunu veya verilerini gizlemek için kullanılır. Bu sayede, sınıfın dışından bu verilere erişilmesi ve değiştirilmesi engellenebilir.\n",
    "\n",
    "# Çift alt çizgiyle başlayan yöntemlere örnek olarak şunlar verilebilir:\n",
    "\n",
    "# * `__init__` yöntemi: Sınıfın kurucusu olarak bilinir ve sınıf örneği oluşturulduğunda otomatik olarak çağrılır.\n",
    "# * `__del__` yöntemi: Sınıf örneği yok edildiğinde otomatik olarak çağrılır.\n",
    "# * `__str__` yöntemi: Sınıf örneğini string olarak döndürür.\n",
    "# * `__repr__` yöntemi: Sınıf örneğini temsil eden bir string döndürür.\n",
    "\n",
    "# Bu yöntemler, Python'da özel veya gizli yöntemler olarak bilinir ve sınıfın dışından erişilemez.\n"
   ]
  },
  {
   "cell_type": "code",
   "execution_count": 50,
   "metadata": {},
   "outputs": [
    {
     "name": "stdout",
     "output_type": "stream",
     "text": [
      "Bu benim yazdigim classtan uretilmis bir instance'dir.\n",
      "Bus, Bilecen\n"
     ]
    }
   ],
   "source": [
    "# Python icin ozel anlam iceren methodlardir. Isimleri sabittir.\n",
    "class Person:\n",
    "    name = 'Emir'\n",
    "    surname = 'Haktan'\n",
    "\n",
    "    # Constructor Method: Instance olusturuldugunda otamatik calisan method.\n",
    "    def __init__(self):\n",
    "        self.name = \"Bus\"\n",
    "        self.surname = \"Bilecen\"\n",
    "\n",
    "    # __str__(): Instance default return\n",
    "    def __str__(self):\n",
    "        return 'Bu benim yazdigim classtan uretilmis bir instance\\'dir.'\n",
    "\n",
    "    def ekrana_yaz(self):\n",
    "        print(f'{self.name}, {self.surname}')\n",
    "\n",
    "\n",
    "# print(Person)\n",
    "personel = Person()\n",
    "print(personel)\n",
    "personel.ekrana_yaz()\n"
   ]
  },
  {
   "cell_type": "code",
   "execution_count": 64,
   "metadata": {},
   "outputs": [
    {
     "name": "stdout",
     "output_type": "stream",
     "text": [
      "['__class__', '__delattr__', '__dict__', '__dir__', '__doc__', '__eq__', '__format__', '__ge__', '__getattribute__', '__getstate__', '__gt__', '__hash__', '__init__', '__init_subclass__', '__le__', '__lt__', '__module__', '__ne__', '__new__', '__reduce__', '__reduce_ex__', '__repr__', '__setattr__', '__sizeof__', '__str__', '__subclasshook__', '__weakref__', 'var_1']\n",
      "Modul aciklama\n",
      "None\n"
     ]
    }
   ],
   "source": [
    "from module import Module\n",
    "\n",
    "print(dir(Module)) # verileri dir komutu ile gorecegiz.\n",
    "instance = Module()\n",
    "print(instance)\n",
    "print(Module.__doc__)\n"
   ]
  },
  {
   "cell_type": "code",
   "execution_count": null,
   "metadata": {},
   "outputs": [],
   "source": []
  }
 ],
 "metadata": {
  "kernelspec": {
   "display_name": "Python 3",
   "language": "python",
   "name": "python3"
  },
  "language_info": {
   "codemirror_mode": {
    "name": "ipython",
    "version": 3
   },
   "file_extension": ".py",
   "mimetype": "text/x-python",
   "name": "python",
   "nbconvert_exporter": "python",
   "pygments_lexer": "ipython3",
   "version": "3.11.3"
  }
 },
 "nbformat": 4,
 "nbformat_minor": 2
}
