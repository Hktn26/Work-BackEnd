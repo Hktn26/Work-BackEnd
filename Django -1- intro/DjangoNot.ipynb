{
 "cells": [
  {
   "cell_type": "code",
   "execution_count": 1,
   "metadata": {},
   "outputs": [],
   "source": [
    "# Django Session - 1\n",
    "\n",
    "# Framework nedir?\n",
    "# Çerçeveler, belirli bir programlama dili veya yazılım platformu için yeniden kullanılabilir kod sağlayan yazılım bileşenleridir. Genellikle belirli bir görevi yerine getirmek için kullanılabilen önceden tanımlanmış sınıflar, işlevler ve değişkenler içerirler. Çerçeveler, yazılım geliştirmeyi hızlandırmaya ve karmaşıklığı azaltmaya yardımcı olabilir.\n",
    "\n",
    "# Django, Python ile yazılmış bir web uygulaması geliştirmek için\n",
    "\n",
    "# Django nedir?\n",
    "# Django, Python'da web uygulamaları geliştirmek için kullanılan bir çerçevedir. Model-View-Controller (MVC) mimari desenine dayanır ve hızlı, güvenli ve bakımı kolay web siteleri oluşturmayı kolaylaştırır. Django, karmaşık web siteleri oluşturmak için gereken birçok özelliği ve işlevi içerir\n",
    "\n",
    "# python --version\n",
    "# python -m venv env\n",
    "# $ source ./env/Scripts/activate\n",
    "# deactivate => yapinca cikiyon\n",
    "\n",
    "# pip install module_name\n",
    "# pip uninstall module_name\n",
    "# pip list\n",
    "# pip freeze\n",
    "\n",
    "# pip install django\n",
    "# django-admin --version\n",
    "# django-admin startproject projectName .\n",
    "# django-admin startapp appName"
   ]
  },
  {
   "cell_type": "code",
   "execution_count": null,
   "metadata": {},
   "outputs": [],
   "source": []
  }
 ],
 "metadata": {
  "kernelspec": {
   "display_name": "Python 3",
   "language": "python",
   "name": "python3"
  },
  "language_info": {
   "codemirror_mode": {
    "name": "ipython",
    "version": 3
   },
   "file_extension": ".py",
   "mimetype": "text/x-python",
   "name": "python",
   "nbconvert_exporter": "python",
   "pygments_lexer": "ipython3",
   "version": "3.11.3"
  }
 },
 "nbformat": 4,
 "nbformat_minor": 2
}
