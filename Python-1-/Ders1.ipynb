{
 "cells": [
  {
   "cell_type": "code",
   "execution_count": null,
   "metadata": {},
   "outputs": [
    {
     "data": {
      "text/plain": [
       "4"
      ]
     },
     "execution_count": 1,
     "metadata": {},
     "output_type": "execute_result"
    }
   ],
   "source": [
    "2+2\n"
   ]
  },
  {
   "cell_type": "code",
   "execution_count": null,
   "metadata": {},
   "outputs": [
    {
     "name": "stdout",
     "output_type": "stream",
     "text": [
      "Hello World!\n"
     ]
    }
   ],
   "source": [
    "print('Hello World!')  # Bu bir Fonksiyon."
   ]
  },
  {
   "cell_type": "code",
   "execution_count": null,
   "metadata": {},
   "outputs": [
    {
     "name": "stdout",
     "output_type": "stream",
     "text": [
      "<class 'str'>\n",
      "<class 'int'>\n"
     ]
    }
   ],
   "source": [
    "my_var = 'hello world'\n",
    "my_number = 12\n",
    "\n",
    "print(type(my_var))\n",
    "print(type(my_number))\n"
   ]
  },
  {
   "cell_type": "code",
   "execution_count": null,
   "metadata": {},
   "outputs": [],
   "source": [
    "first_name = 'Rafe'\n"
   ]
  },
  {
   "cell_type": "code",
   "execution_count": 4,
   "metadata": {},
   "outputs": [
    {
     "name": "stdout",
     "output_type": "stream",
     "text": [
      "<class 'str'>\n",
      "Murat's car\n",
      "Murat's \n",
      "car\n",
      "\n"
     ]
    }
   ],
   "source": [
    "greeting = '1 Benim guzel sayim' # tek tirnak ile basla tek tirnak ile bitir        \n",
    "print(type(greeting))\n",
    "greeting1 = 'Murat\\'s car'\n",
    "print(greeting1)\n",
    "greeting2 = '''Murat\\'s \n",
    "car\n",
    "'''\n",
    "print(greeting2)"
   ]
  },
  {
   "cell_type": "code",
   "execution_count": 5,
   "metadata": {},
   "outputs": [
    {
     "name": "stdout",
     "output_type": "stream",
     "text": [
      "C i f t c i\n",
      "i c t f i C\n"
     ]
    }
   ],
   "source": [
    "ln = 'Ciftci'\n",
    "\n",
    "len(ln)  # len() uzunlugu verir ve bosluklar da bir karakterdir\n",
    "\n",
    "#indexler 0'dan baslar\n",
    "#tersinde ise -1'den baslar\n",
    "\n",
    "print(ln[0] +' '+ ln[1] +' '+ ln[2] +' '+ ln[3] +' '+ ln[4] +' '+ ln[5]) #duzden yazdirdik\n",
    "print(ln[-1] +' '+ ln[-2] +' '+ ln[-3] +' '+ ln[-4] +' '+ ln[-5] +' '+ ln[-6]) #tersten yazdirdik\n"
   ]
  },
  {
   "cell_type": "code",
   "execution_count": 18,
   "metadata": {},
   "outputs": [
    {
     "data": {
      "text/plain": [
       "'97531'"
      ]
     },
     "execution_count": 18,
     "metadata": {},
     "output_type": "execute_result"
    }
   ],
   "source": [
    "# slice\n",
    "ln = 'Ciftci'\n",
    "ln[0:3]  # Cif\n",
    "ln[0:5:2]  # 0'dan basladi 5.indexe kadar, 1 tanesini atladi 2.sini verdi. Cfc\n",
    "ln[:3]  # 0'dan basla 3.indexe kadar ver 0 1 2 Cif\n",
    "ln[:5:]  # Ciftc\n",
    "ln[::3]  # Ct\n",
    "ln[2::]  # ftci\n",
    "ln[::-1]  # ictfiC\n",
    "\n",
    "# step\n",
    "# ln2[burdan basla:buraya kadar dahil degil!:Bu kadar adimlarla]\n",
    "ln2 = '0123456789'\n",
    "ln2[2:8:3]\n",
    "ln2[-1:-10:-2]  # 97531\n"
   ]
  },
  {
   "cell_type": "code",
   "execution_count": 42,
   "metadata": {},
   "outputs": [
    {
     "data": {
      "text/plain": [
       "-1"
      ]
     },
     "execution_count": 42,
     "metadata": {},
     "output_type": "execute_result"
    }
   ],
   "source": [
    "last_name = 'Haktan'\n",
    "baslik = 'bir baslik'\n",
    "var = 'Edip Edirnede pide ye'\n",
    "var2 = 'Edip Edirnede pide yesssssss'\n",
    "# metodlar = veriable ye dokunmuyor sadece o anlik etki ediyor.\n",
    "#  .upper() = Tum Str'leri (harf olanlari) buyuk harfe donusturur\n",
    "#  .lower() = Tum Str'leri (harf olanlari) kucuk harfe donusturur\n",
    "#  .title() = baslik seklinde yazar her kelimenin 1. harfi buyuk olur\n",
    "#  .count() = aranan seyin sayisini verir\n",
    "#  .find('aranacak') = aranan seyi bulup indexi dortelestirir -1 degilse var\n",
    "#  isalpha() = cift basamakli sayilar ve harfleri donduren bir method\n",
    "#  .split() = default olarak bosluklardan ayirarak liste haline getiriyor AYIRMAK ICIN\n",
    "#  .replace(var olan, degistirmek istedigin) = harf ya da bisi degistirmek icin\n",
    "#  .startswith() = ne ile basliyor\n",
    "#  .strip() = TRASLAMAK ICIN\n",
    "#  .endswith() = ne ile sonlandigi\n",
    "#  .index() = ilk bulunan sonucu verir.\n",
    "#  .find() = index gibi ama yoksa -1 verir.\n",
    "\n",
    "\n",
    "last_name.upper()  # HAKTAN\n",
    "last_name.lower()  # haktan\n",
    "baslik.title()  # Bir Baslik\n",
    "var.count('e')  # 'e' harfinden 4 tane var\n",
    "(var.lower()).count('e')  # Tum harfleri kuculttuk ve 'e' harfini aradik 6 tane var\n",
    "var.split()  # ['Edip', 'Edirnede', 'pide', 'ye']\n",
    "var.split('e')  # ['Edip Edirn', 'd', ' pid', ' y', '']\n",
    "(var.lower()).split('e')  # ['', 'dip ', 'dirn', 'd', ' pid', ' y', '']\n",
    "var.replace('Edirne', 'Eskisehir')  # 'Edip Eskisehirde pide ye'\n",
    "var.startswith('a')  # a ile mi basliyor ## False\n",
    "var2.strip('s')  # 'Edip Edirnede pide ye'\n",
    "var.index('r')  # 8.index 'r'\n",
    "var.index('e')  # 10.index\n",
    "var.find('e')  # 10.index\n",
    "var.find('x')  # -1\n"
   ]
  },
  {
   "cell_type": "code",
   "execution_count": 59,
   "metadata": {},
   "outputs": [
    {
     "name": "stdout",
     "output_type": "stream",
     "text": [
      "<class 'float'>\n",
      "<class 'float'>\n"
     ]
    }
   ],
   "source": [
    "# INTIGER + - / // * ** %\n",
    "int0 = 15\n",
    "int0 - 1  # 14\n",
    "int0 ** 15  # 15 in karesi\n",
    "int0 / 3  # 5.0\n",
    "int0 // 3  # 5\n",
    "int0 % 2  # kalan 1\n",
    "\n",
    "my_pi = 3.14\n",
    "print(type(my_pi))\n",
    "\n",
    "money_spent = 15.50\n",
    "print(type(money_spent))\n"
   ]
  },
  {
   "cell_type": "code",
   "execution_count": 61,
   "metadata": {},
   "outputs": [
    {
     "name": "stdout",
     "output_type": "stream",
     "text": [
      "Benim adim Yusuf, yasim 16\n"
     ]
    }
   ],
   "source": [
    "### ONEMLI BIR KONU ###\n",
    "fn = 'Yusuf'\n",
    "age = 16\n",
    "\n",
    "print(f'Benim adim {fn}, yasim {age}')\n"
   ]
  },
  {
   "cell_type": "code",
   "execution_count": 63,
   "metadata": {},
   "outputs": [
    {
     "name": "stdout",
     "output_type": "stream",
     "text": [
      "Isiklar kapali\n"
     ]
    }
   ],
   "source": [
    "# BO0LEAN\n",
    "isik_acik = False\n",
    "\n",
    "if isik_acik:\n",
    "    print('Lutfen isiklari kapatiniz')\n",
    "else:\n",
    "    print(\"Isiklar kapali\")\n"
   ]
  },
  {
   "cell_type": "code",
   "execution_count": 70,
   "metadata": {},
   "outputs": [
    {
     "data": {
      "text/plain": [
       "False"
      ]
     },
     "execution_count": 70,
     "metadata": {},
     "output_type": "execute_result"
    }
   ],
   "source": [
    "sayi_1 = 3\n",
    "sayi_2 = 5\n",
    "\n",
    "sayi_1 == sayi_2  # False\n",
    "sayi_1 != sayi_2  # True\n",
    "sayi_1 <= sayi_2  # True\n",
    "sayi_1 >= sayi_2  # False\n",
    "sayi_1 < sayi_2  # True\n",
    "sayi_1 > sayi_2  # False\n"
   ]
  },
  {
   "cell_type": "code",
   "execution_count": 74,
   "metadata": {},
   "outputs": [
    {
     "name": "stdout",
     "output_type": "stream",
     "text": [
      "<class 'int'>\n",
      "<class 'str'>\n"
     ]
    },
    {
     "data": {
      "text/plain": [
       "'Some characters, 12'"
      ]
     },
     "execution_count": 74,
     "metadata": {},
     "output_type": "execute_result"
    }
   ],
   "source": [
    "my_string = 'Some characters'\n",
    "my_int = 12\n",
    "last_name = 'Stafano'\n",
    "\n",
    "print(type(my_int))\n",
    "my_int = str(my_int)\n",
    "print(type(my_int))\n",
    "\n",
    "my_string + ', ' + last_name\n",
    "my_string + ', ' + str(my_int)\n"
   ]
  },
  {
   "cell_type": "code",
   "execution_count": 80,
   "metadata": {},
   "outputs": [
    {
     "data": {
      "text/plain": [
       "False"
      ]
     },
     "execution_count": 80,
     "metadata": {},
     "output_type": "execute_result"
    }
   ],
   "source": [
    "#logical Oparator\n",
    "#and or not\n",
    "True and True # True\n",
    "True and False # False\n",
    "True or True # True\n",
    "True or False # True\n",
    "False or False # False\n",
    "not True or False #False\n"
   ]
  },
  {
   "cell_type": "code",
   "execution_count": 81,
   "metadata": {},
   "outputs": [],
   "source": [
    "#[] , {} , 0, None\n",
    "if []:\n",
    "    print('this list is empty')\n"
   ]
  },
  {
   "cell_type": "code",
   "execution_count": null,
   "metadata": {},
   "outputs": [],
   "source": []
  }
 ],
 "metadata": {
  "kernelspec": {
   "display_name": "Python 3",
   "language": "python",
   "name": "python3"
  },
  "language_info": {
   "codemirror_mode": {
    "name": "ipython",
    "version": 3
   },
   "file_extension": ".py",
   "mimetype": "text/x-python",
   "name": "python",
   "nbconvert_exporter": "python",
   "pygments_lexer": "ipython3",
   "version": "3.11.3"
  },
  "orig_nbformat": 4
 },
 "nbformat": 4,
 "nbformat_minor": 2
}
