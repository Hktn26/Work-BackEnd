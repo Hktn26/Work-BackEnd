{
 "cells": [
  {
   "cell_type": "code",
   "execution_count": 1,
   "metadata": {},
   "outputs": [],
   "source": [
    "#Conditional Statements\n",
    "#Looping Statements\n",
    "#Transfer Statements\n",
    "#The Pass Statements"
   ]
  },
  {
   "cell_type": "code",
   "execution_count": 5,
   "metadata": {},
   "outputs": [
    {
     "name": "stdout",
     "output_type": "stream",
     "text": [
      "Positive number\n",
      "This block works!\n",
      "Semsiyeni al belki lazim olur\n"
     ]
    }
   ],
   "source": [
    "# if\n",
    "\n",
    "my_num = 5\n",
    "if my_num > 0:\n",
    "    print(\"Positive number\")\n",
    "\n",
    "if True:\n",
    "    print('This block works!')\n",
    "\n",
    "if False:\n",
    "    print('This block is not works!!')\n",
    "\n",
    "yagmurlu = False\n",
    "bulutlu = True\n",
    "\n",
    "if yagmurlu:\n",
    "    print('Semsiyeni al ve islanmaz')\n",
    "elif bulutlu:\n",
    "    print('Semsiyeni al belki lazim olur')\n",
    "else:\n",
    "    print('Semsiyeye gerek yok')\n"
   ]
  },
  {
   "cell_type": "code",
   "execution_count": 7,
   "metadata": {},
   "outputs": [
    {
     "name": "stdout",
     "output_type": "stream",
     "text": [
      "10 5'den daha kucuktur\n"
     ]
    }
   ],
   "source": [
    "a = 5\n",
    "b = 10 \n",
    "\n",
    "if a > b:\n",
    "    print(f'{a} {b}\\'den daha kucuktur')\n",
    "elif a == b:\n",
    "    print(f'{a} ve {b}\\'esittir')\n",
    "else:\n",
    "    print(f'{b} {a}\\'den daha kucuktur')"
   ]
  },
  {
   "cell_type": "code",
   "execution_count": 10,
   "metadata": {},
   "outputs": [
    {
     "name": "stdout",
     "output_type": "stream",
     "text": [
      "num is less than or equal to 10\n"
     ]
    },
    {
     "data": {
      "text/plain": [
       "'Num is not greater then 10'"
      ]
     },
     "execution_count": 10,
     "metadata": {},
     "output_type": "execute_result"
    }
   ],
   "source": [
    "num = 5\n",
    "if num > 10:\n",
    "    print(\"num is greater than 10\")\n",
    "else:\n",
    "    print(\"num is less than or equal to 10\")\n",
    "\n",
    "# Bunu tek satirda yazmak mumkun mudur EVET ama alt alta yazmak daha iyidir.\n",
    "print(f\"num {num} is greater than 10\") if (\n",
    "    num > 10) else \"Num is not greater then 10\"\n"
   ]
  },
  {
   "cell_type": "code",
   "execution_count": 13,
   "metadata": {},
   "outputs": [
    {
     "name": "stdout",
     "output_type": "stream",
     "text": [
      "Bad request\n"
     ]
    }
   ],
   "source": [
    "# MATCH\n",
    "\n",
    "status = 401\n",
    "\n",
    "match status:\n",
    "    case 200:\n",
    "        print(\"Sayfa 10 numara\")\n",
    "    case 400 | 401:\n",
    "        print(\"Bad request\")\n",
    "    case _:\n",
    "        print(\"Baska bir status code\")\n"
   ]
  },
  {
   "cell_type": "markdown",
   "metadata": {},
   "source": [
    "WHILE"
   ]
  },
  {
   "cell_type": "code",
   "execution_count": 11,
   "metadata": {},
   "outputs": [
    {
     "name": "stdout",
     "output_type": "stream",
     "text": [
      " geri sayim 5\n",
      " geri sayim 4\n",
      " geri sayim 3\n",
      " geri sayim 2\n",
      " geri sayim 1\n",
      " Fire!!!\n"
     ]
    }
   ],
   "source": [
    "import time\n",
    "num = 5\n",
    "\n",
    "while num > 0:\n",
    "    print(f' geri sayim {num}')\n",
    "    time.sleep(1) ### COK ONEMLI BIR OLAY\n",
    "    ### time.sleep(saniye)\n",
    "    num -= 1  # num = num - 1\n",
    "    if num == 0:\n",
    "        print(\" Fire!!!\")\n",
    "\n",
    "        # yukaridaki kodu duzeltir misin?\n"
   ]
  },
  {
   "cell_type": "code",
   "execution_count": 13,
   "metadata": {},
   "outputs": [
    {
     "name": "stdout",
     "output_type": "stream",
     "text": [
      "Welcome, you have entered the correct password!\n"
     ]
    }
   ],
   "source": [
    "secret = 'swordfish'\n",
    "pw = ''\n",
    "\n",
    "while pw != secret:\n",
    "    pw = input(\"What's the seceret word?\")\n",
    "    print (\"Welcome, you have entered the correct password!\")"
   ]
  },
  {
   "cell_type": "code",
   "execution_count": 23,
   "metadata": {},
   "outputs": [
    {
     "name": "stdout",
     "output_type": "stream",
     "text": [
      "Giris basarili\n"
     ]
    }
   ],
   "source": [
    "pw = ''\n",
    "giris_hakki = 3\n",
    "\n",
    "while pw != 'secret' and giris_hakki > 0:\n",
    "    pw = input('Sifreyi giriniz')\n",
    "    giris_hakki -= 1\n",
    "    if giris_hakki == 0:\n",
    "        print(\"giris hakkiniz kalmadi\")\n",
    "    elif pw == 'secret':\n",
    "        #        break #bu satirda programı sonlandıracaktır.\n",
    "        print('Giris basarili')\n",
    "        break\n",
    "    else:\n",
    "        print(f'{giris_hakki} hakkiniz kaldi')\n",
    "    "
   ]
  },
  {
   "cell_type": "markdown",
   "metadata": {},
   "source": [
    "FOR LOOP"
   ]
  },
  {
   "cell_type": "code",
   "execution_count": 53,
   "metadata": {},
   "outputs": [
    {
     "name": "stdout",
     "output_type": "stream",
     "text": [
      "g o r k e m "
     ]
    }
   ],
   "source": [
    "name = \"gorkem\"\n",
    "\n",
    "for i in name:\n",
    "    print(i, end=\" \")"
   ]
  },
  {
   "cell_type": "code",
   "execution_count": 48,
   "metadata": {},
   "outputs": [
    {
     "name": "stdout",
     "output_type": "stream",
     "text": [
      "Muz Erik Armut Elma "
     ]
    }
   ],
   "source": [
    "meyveler = [\"Muz\",\"Erik\",\"Armut\",\"Elma\"]\n",
    "\n",
    "for i in meyveler:\n",
    "    print(i, end=\" \")"
   ]
  },
  {
   "cell_type": "code",
   "execution_count": 52,
   "metadata": {},
   "outputs": [
    {
     "name": "stdout",
     "output_type": "stream",
     "text": [
      "1 Siyah 1 Lacivert 1 Mor 1 Turuncu \n",
      "2 Siyah 2 Lacivert 2 Mor 2 Turuncu \n",
      "3 Siyah 3 Lacivert 3 Mor 3 Turuncu \n",
      "4 Siyah 4 Lacivert 4 Mor 4 Turuncu \n"
     ]
    }
   ],
   "source": [
    "birinci_secenek = [1,2,3,4]\n",
    "ikinci_secenek = [\"Siyah\",\"Lacivert\",\"Mor\",\"Turuncu\"]\n",
    "\n",
    "for sayi in birinci_secenek:\n",
    "    for renk in ikinci_secenek:\n",
    "        print(sayi, renk, end=\" \")\n",
    "    print(\"\")"
   ]
  },
  {
   "cell_type": "code",
   "execution_count": 54,
   "metadata": {},
   "outputs": [
    {
     "name": "stdout",
     "output_type": "stream",
     "text": [
      "0 3 6 9 12 15 18 21 24 27 "
     ]
    }
   ],
   "source": [
    "\n",
    "for num in range(0,30,3):\n",
    "    print(num, end= \" \") "
   ]
  },
  {
   "cell_type": "code",
   "execution_count": 55,
   "metadata": {},
   "outputs": [],
   "source": [
    "# Cavus sinav cek diyor\n",
    "# while = Ben dur diyene kadar devam et\n",
    "# for = 100 tane sinav cek diyor.\n"
   ]
  },
  {
   "cell_type": "markdown",
   "metadata": {},
   "source": [
    "Transfer Statements"
   ]
  },
  {
   "cell_type": "code",
   "execution_count": 56,
   "metadata": {},
   "outputs": [],
   "source": [
    "# break => kir\n",
    "# continue => atla\n",
    "# return => dondur"
   ]
  },
  {
   "cell_type": "code",
   "execution_count": 57,
   "metadata": {},
   "outputs": [
    {
     "name": "stdout",
     "output_type": "stream",
     "text": [
      "apple\n",
      "banana\n"
     ]
    }
   ],
   "source": [
    "# BREAK\n",
    "fruits = [\"apple\", \"banana\", \"cherry\"]\n",
    "for fruit in fruits:\n",
    "    print(fruit)\n",
    "    if fruit == 'banana':\n",
    "        break"
   ]
  },
  {
   "cell_type": "code",
   "execution_count": 60,
   "metadata": {},
   "outputs": [
    {
     "name": "stdout",
     "output_type": "stream",
     "text": [
      "0 1 2 3 "
     ]
    }
   ],
   "source": [
    "sayi = 0\n",
    "while sayi < 6:\n",
    "    print(sayi, end=\" \")\n",
    "    if sayi == 3:\n",
    "        break\n",
    "    sayi += 1"
   ]
  },
  {
   "cell_type": "code",
   "execution_count": 62,
   "metadata": {},
   "outputs": [
    {
     "name": "stdout",
     "output_type": "stream",
     "text": [
      "apple\n",
      "cherry\n"
     ]
    }
   ],
   "source": [
    "# CONTUNUE // banana yazdirma\n",
    "fruits = [\"apple\", \"banana\", \"cherry\"] \n",
    "for fruit in fruits: \n",
    "  if fruit == \"banana\": \n",
    "    continue \n",
    "  print(fruit)\n",
    "\n"
   ]
  },
  {
   "cell_type": "code",
   "execution_count": 69,
   "metadata": {},
   "outputs": [
    {
     "name": "stdout",
     "output_type": "stream",
     "text": [
      "0 1 2 4 5 6 7 "
     ]
    }
   ],
   "source": [
    "sayi = -1\n",
    "while sayi <= 6:\n",
    "    sayi += 1\n",
    "    if sayi == 3:\n",
    "        continue\n",
    "    print(sayi, end=\" \")"
   ]
  },
  {
   "cell_type": "code",
   "execution_count": 71,
   "metadata": {},
   "outputs": [
    {
     "data": {
      "text/plain": [
       "25"
      ]
     },
     "execution_count": 71,
     "metadata": {},
     "output_type": "execute_result"
    }
   ],
   "source": [
    "# RETURN\n",
    "\n",
    "def my_func(num):\n",
    "    return num ** 2\n",
    "\n",
    "\n",
    "my_func(5)\n"
   ]
  },
  {
   "cell_type": "code",
   "execution_count": 72,
   "metadata": {},
   "outputs": [],
   "source": [
    "my_string = \"some\"\n",
    "\n",
    "for char in my_string:\n",
    "    pass # bu kod blogu sonra yazilacak"
   ]
  },
  {
   "cell_type": "code",
   "execution_count": null,
   "metadata": {},
   "outputs": [],
   "source": []
  }
 ],
 "metadata": {
  "kernelspec": {
   "display_name": "Python 3",
   "language": "python",
   "name": "python3"
  },
  "language_info": {
   "codemirror_mode": {
    "name": "ipython",
    "version": 3
   },
   "file_extension": ".py",
   "mimetype": "text/x-python",
   "name": "python",
   "nbconvert_exporter": "python",
   "pygments_lexer": "ipython3",
   "version": "3.11.3"
  },
  "orig_nbformat": 4
 },
 "nbformat": 4,
 "nbformat_minor": 2
}
