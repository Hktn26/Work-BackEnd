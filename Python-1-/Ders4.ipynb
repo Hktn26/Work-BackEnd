{
 "cells": [
  {
   "cell_type": "markdown",
   "metadata": {},
   "source": [
    " #### Function ###"
   ]
  },
  {
   "cell_type": "code",
   "execution_count": 6,
   "metadata": {},
   "outputs": [
    {
     "data": {
      "text/plain": [
       "'Hello from a function'"
      ]
     },
     "execution_count": 6,
     "metadata": {},
     "output_type": "execute_result"
    }
   ],
   "source": [
    "def my_func():\n",
    "    return 'Hello from a function'\n",
    "\n",
    "\n",
    "my_func()\n"
   ]
  },
  {
   "cell_type": "code",
   "execution_count": 14,
   "metadata": {},
   "outputs": [
    {
     "data": {
      "text/plain": [
       "'This is my first function'"
      ]
     },
     "execution_count": 14,
     "metadata": {},
     "output_type": "execute_result"
    }
   ],
   "source": [
    "def my_func2():\n",
    "    return \"This is my first function\"\n",
    "\n",
    "\n",
    "# my_func2()\n",
    "# my_func()\n",
    "\n",
    "veriable = my_func2()\n",
    "veriable"
   ]
  },
  {
   "cell_type": "code",
   "execution_count": 23,
   "metadata": {},
   "outputs": [
    {
     "data": {
      "text/plain": [
       "'Hello emir'"
      ]
     },
     "execution_count": 23,
     "metadata": {},
     "output_type": "execute_result"
    }
   ],
   "source": [
    "name = input(\"Lutfen isim giriniz\")\n",
    "def first_func(name):\n",
    "    # ''' \n",
    "    # This function prints the name.\n",
    "    # '''\n",
    "    return f'Hello {name}'\n",
    "\n",
    "first_func(name)"
   ]
  },
  {
   "cell_type": "code",
   "execution_count": 31,
   "metadata": {},
   "outputs": [
    {
     "name": "stdout",
     "output_type": "stream",
     "text": [
      "Cevresi :  30.0\n"
     ]
    }
   ],
   "source": [
    "# ucgen 3 kenar ve cevresi hesapla\n",
    "a = float(input(\"1.kenari giriniz: \"))\n",
    "b = float(input(\"2.kenari giriniz: \"))\n",
    "c = float(input(\"3.kenari giriniz: \"))\n",
    "def ucgenin_cevresi(a,b,c):\n",
    "    cevre = a + b + c\n",
    "    return cevre\n",
    "\n",
    "print(\"Cevresi : \", ucgenin_cevresi(a,b,c))"
   ]
  },
  {
   "cell_type": "code",
   "execution_count": 33,
   "metadata": {},
   "outputs": [
    {
     "data": {
      "text/plain": [
       "'Hello Emir Haktan'"
      ]
     },
     "execution_count": 33,
     "metadata": {},
     "output_type": "execute_result"
    }
   ],
   "source": [
    "first_name = str(input('isim: '))\n",
    "last_name = str(input('soyisim:'))\n",
    "\n",
    "def say_hello_to_full_name(first_name, last_name):\n",
    "    return f'Hello {first_name} {last_name}'\n",
    "\n",
    "say_hello_to_full_name(first_name, last_name)\n"
   ]
  },
  {
   "cell_type": "markdown",
   "metadata": {},
   "source": [
    "Arguments"
   ]
  },
  {
   "cell_type": "code",
   "execution_count": 7,
   "metadata": {},
   "outputs": [
    {
     "name": "stdout",
     "output_type": "stream",
     "text": [
      "Hello Busra\n",
      "Hello Emir\n",
      "Hello Tugba\n",
      "Hello Melisa\n",
      "Hello Gizem\n"
     ]
    }
   ],
   "source": [
    "args = [input(f\"{i+1}. girdiyi giriniz: \") for i in range(5)]\n",
    "\n",
    "def my_other_func(*args):\n",
    "    for arg in args:\n",
    "        print(f'Hello {arg}')\n",
    "\n",
    "my_other_func(*args)"
   ]
  },
  {
   "cell_type": "code",
   "execution_count": 3,
   "metadata": {},
   "outputs": [
    {
     "data": {
      "text/plain": [
       "'the youngest child is Hans'"
      ]
     },
     "execution_count": 3,
     "metadata": {},
     "output_type": "execute_result"
    }
   ],
   "source": [
    "def my_function(*kids):\n",
    "    return \"the youngest child is \" + kids[0]\n",
    "\n",
    "\n",
    "my_function(\"Hans\", \"Angel\", \"Lilly\")\n"
   ]
  },
  {
   "cell_type": "markdown",
   "metadata": {},
   "source": [
    "Keyword Arguments"
   ]
  },
  {
   "cell_type": "code",
   "execution_count": 5,
   "metadata": {},
   "outputs": [
    {
     "data": {
      "text/plain": [
       "'Hello Anne Mary'"
      ]
     },
     "execution_count": 5,
     "metadata": {},
     "output_type": "execute_result"
    }
   ],
   "source": [
    "def salute_to_name(first_name, last_name):\n",
    "    return f\"Hello {first_name} {last_name}\"\n",
    "\n",
    "\n",
    "salute_to_name(last_name=\"Mary\", first_name=\"Anne\")\n",
    "#yer fark etmeksizin keyword arguments sayesinde yerleri belirlemek\n"
   ]
  },
  {
   "cell_type": "markdown",
   "metadata": {},
   "source": [
    "**kwargs"
   ]
  },
  {
   "cell_type": "code",
   "execution_count": 6,
   "metadata": {},
   "outputs": [
    {
     "name": "stdout",
     "output_type": "stream",
     "text": [
      "Hello Marry\n",
      "Hello Tommy\n"
     ]
    }
   ],
   "source": [
    "def my_function(**kwargs):\n",
    "    for kid in kwargs.values():\n",
    "        print(f\"Hello {kid}\")\n",
    "\n",
    "\n",
    "my_function(kid1=\"Marry\", kid2= \"Tommy\")\n",
    "\n",
    "#Bu mukemmel bir olay bunu incele\n"
   ]
  },
  {
   "cell_type": "code",
   "execution_count": 15,
   "metadata": {},
   "outputs": [
    {
     "name": "stdout",
     "output_type": "stream",
     "text": [
      "Hello Helen kid\n",
      "Hello motherfucker Tobey you are arbitarary args\n",
      "Hello motherfucker Marry you are arb keyword args\n",
      "Hello motherfucker Tommy you are arb keyword args\n"
     ]
    }
   ],
   "source": [
    "def my_function(kid1, *args, **kwargs):\n",
    "    print(f\"Hello {kid1} kid\")\n",
    "    for arg in args:\n",
    "        print(f\"Hello motherfucker {arg} you are arbitarary args\")\n",
    "    for kid in kwargs.values():\n",
    "        print(f\"Hello motherfucker {kid} you are arb keyword args\")\n",
    "\n",
    "my_function(\"Helen\", \"Tobey\", kid2=\"Marry\", kid3= \"Tommy\")\n",
    "\n",
    "#mukemmel bir olay daha bunu iyi incele"
   ]
  },
  {
   "cell_type": "markdown",
   "metadata": {},
   "source": [
    "Default Parameter Value"
   ]
  },
  {
   "cell_type": "code",
   "execution_count": 28,
   "metadata": {},
   "outputs": [
    {
     "data": {
      "text/plain": [
       "'I am from Norway'"
      ]
     },
     "execution_count": 28,
     "metadata": {},
     "output_type": "execute_result"
    }
   ],
   "source": [
    "# country = input(\"Lutfen ulkenizi giriniz\")\n",
    "\n",
    "def my_function(country = \"Norway\"):\n",
    "    return f\"I am from {country}\"\n",
    "\n",
    "# my_function(country)\n",
    "my_function()"
   ]
  },
  {
   "cell_type": "markdown",
   "metadata": {},
   "source": [
    "Hesap Makinesi"
   ]
  },
  {
   "cell_type": "code",
   "execution_count": 3,
   "metadata": {},
   "outputs": [
    {
     "name": "stdout",
     "output_type": "stream",
     "text": [
      "Yapmak istediginiz islemi secin:\n",
      "1-Toplama\n",
      "2-Cikarma\n",
      "3-Carpma\n",
      "4-Bolme\n",
      "5-Kalan\n",
      "6-Cikis\n",
      "3.0\n"
     ]
    }
   ],
   "source": [
    "def toplama(x, y):\n",
    "    return x + y\n",
    "\n",
    "\n",
    "def cikarma(x, y):\n",
    "    return x - y\n",
    "\n",
    "\n",
    "def carpma(x, y):\n",
    "    return x * y\n",
    "\n",
    "\n",
    "def bolme(x, y):\n",
    "    if y == 0:\n",
    "        return \"Bolme hatasi\"\n",
    "    return x / y\n",
    "\n",
    "\n",
    "def kalan(x, y):\n",
    "    return x % y\n",
    "\n",
    "\n",
    "while True:\n",
    "    print(\"Yapmak istediginiz islemi secin:\")\n",
    "    print(\"1-Toplama\")\n",
    "    print(\"2-Cikarma\")\n",
    "    print(\"3-Carpma\")\n",
    "    print(\"4-Bolme\")\n",
    "    print(\"5-Kalan\")\n",
    "    print(\"6-Cikis\")\n",
    "\n",
    "    secim = input(\"Seciminizi girin (1/2/3/4/5/6): \")\n",
    "\n",
    "    if secim == '6':\n",
    "        print(\"Hesap makinesi over bro\")\n",
    "        break\n",
    "\n",
    "    sayi1 = float(input(\"Birinci sayiyi giriniz\"))\n",
    "    sayi2 = float(input(\"Ikinci sayiyi giriniz\"))\n",
    "\n",
    "    if secim == '1':\n",
    "        print(toplama(sayi1, sayi2))\n",
    "        break\n",
    "    elif secim == '2':\n",
    "        print(cikarma(sayi1, sayi2))\n",
    "        break\n",
    "    elif secim == '3':\n",
    "        print(carpma(sayi1, sayi2))\n",
    "        break\n",
    "    elif secim == '4':\n",
    "        print(bolme(sayi1, sayi2))\n",
    "        break\n",
    "    elif secim == '5':\n",
    "        print(kalan(sayi1, sayi2))\n",
    "        break\n",
    "    else:\n",
    "        print(\"secimi dogru girmediniz.\")\n",
    "        break\n"
   ]
  },
  {
   "cell_type": "markdown",
   "metadata": {},
   "source": [
    "Modules"
   ]
  },
  {
   "cell_type": "code",
   "execution_count": 5,
   "metadata": {},
   "outputs": [
    {
     "data": {
      "text/plain": [
       "3"
      ]
     },
     "execution_count": 5,
     "metadata": {},
     "output_type": "execute_result"
    }
   ],
   "source": [
    "import ders4module\n",
    "#hepsini import ettik kare olani sec\n",
    "\n",
    "ders4module.carpma(1, 2)  # 2\n",
    "ders4module.toplama(1, 2)  # 3\n"
   ]
  },
  {
   "cell_type": "code",
   "execution_count": 6,
   "metadata": {},
   "outputs": [
    {
     "data": {
      "text/plain": [
       "12"
      ]
     },
     "execution_count": 6,
     "metadata": {},
     "output_type": "execute_result"
    }
   ],
   "source": [
    "from ders4module import carpma\n",
    "#sadece bir fonksiyonu import ettik\n",
    "\n",
    "carpma(3, 4) # 12\n"
   ]
  },
  {
   "cell_type": "code",
   "execution_count": 8,
   "metadata": {},
   "outputs": [
    {
     "data": {
      "text/plain": [
       "15"
      ]
     },
     "execution_count": 8,
     "metadata": {},
     "output_type": "execute_result"
    }
   ],
   "source": [
    "from module_dir.ders4module import carpma\n",
    "#dosya icerisinden getirdik\n",
    "\n",
    "carpma(3,5)"
   ]
  },
  {
   "cell_type": "code",
   "execution_count": 9,
   "metadata": {},
   "outputs": [
    {
     "data": {
      "text/plain": [
       "6"
      ]
     },
     "execution_count": 9,
     "metadata": {},
     "output_type": "execute_result"
    }
   ],
   "source": [
    "import module_dir.ders4module\n",
    "#baska dosyadan getirdik\n",
    "\n",
    "ders4module.carpma(2,3)"
   ]
  },
  {
   "cell_type": "code",
   "execution_count": 22,
   "metadata": {},
   "outputs": [
    {
     "name": "stdout",
     "output_type": "stream",
     "text": [
      "Bu gun ki sansli numaran 2\n"
     ]
    }
   ],
   "source": [
    "import random\n",
    "#random kutuphanesi\n",
    "\n",
    "random_intiger = random.randint(1, 10)\n",
    "print(f\"Bu gun ki sansli numaran {random_intiger}\")\n"
   ]
  },
  {
   "cell_type": "code",
   "execution_count": 24,
   "metadata": {},
   "outputs": [
    {
     "name": "stdout",
     "output_type": "stream",
     "text": [
      "2023-10-12 20:37:43.991034\n"
     ]
    }
   ],
   "source": [
    "from datetime import datetime\n",
    "\n",
    "\n",
    "now = datetime.now()\n",
    "print(now)"
   ]
  },
  {
   "cell_type": "code",
   "execution_count": 26,
   "metadata": {},
   "outputs": [
    {
     "name": "stdout",
     "output_type": "stream",
     "text": [
      "5.0\n"
     ]
    }
   ],
   "source": [
    "import math\n",
    "\n",
    "x = math.sqrt(25)\n",
    "print(x)"
   ]
  },
  {
   "cell_type": "code",
   "execution_count": null,
   "metadata": {},
   "outputs": [],
   "source": []
  }
 ],
 "metadata": {
  "kernelspec": {
   "display_name": "Python 3",
   "language": "python",
   "name": "python3"
  },
  "language_info": {
   "codemirror_mode": {
    "name": "ipython",
    "version": 3
   },
   "file_extension": ".py",
   "mimetype": "text/x-python",
   "name": "python",
   "nbconvert_exporter": "python",
   "pygments_lexer": "ipython3",
   "version": "3.11.3"
  }
 },
 "nbformat": 4,
 "nbformat_minor": 2
}
