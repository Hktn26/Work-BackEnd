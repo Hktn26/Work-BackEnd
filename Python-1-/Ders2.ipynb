{
 "cells": [
  {
   "cell_type": "code",
   "execution_count": 10,
   "metadata": {},
   "outputs": [
    {
     "data": {
      "text/plain": [
       "[123]"
      ]
     },
     "execution_count": 10,
     "metadata": {},
     "output_type": "execute_result"
    }
   ],
   "source": [
    "# list [] or list() Degistirilebilir\n",
    "# tuple () or tuple() Degistirilemez\n",
    "# set  {} or set() Aynilari siler\n",
    "# Dictionary { } or dict()\n",
    "\n",
    "list1 = [\"Apple\", 1, 3.5, True, [1, 3], {\"Ready\": \"yes\"}]\n",
    "\n",
    "list_of_names = []\n",
    "type(list_of_names)  # list\n",
    "\n",
    "my_list = list()\n",
    "type(my_list)  # list\n",
    "\n",
    "my_list2 = list('January')\n",
    "my_list2  # ['J', 'a', 'n', 'u', 'a', 'r', 'y']\n",
    "\n",
    "my_number_list = list((1, 2, 3))\n",
    "my_number_list  # [1,2,3]\n",
    "\n",
    "my_number_list1 = list((123,))  # itteriable oldu\n",
    "my_number_list1  # [123]\n",
    "# my_tuple = (4,)   # itterable olmadigi icin tek parantez kullanabiliyoruz\n"
   ]
  },
  {
   "cell_type": "code",
   "execution_count": 11,
   "metadata": {},
   "outputs": [
    {
     "data": {
      "text/plain": [
       "[123, 2]"
      ]
     },
     "execution_count": 11,
     "metadata": {},
     "output_type": "execute_result"
    }
   ],
   "source": [
    "# .append() listenin sonuna eleman ekler\n",
    "my_number_list1  # [123]\n",
    "my_number_list1.append(2)\n",
    "my_number_list1  # [123, 2]\n"
   ]
  },
  {
   "cell_type": "code",
   "execution_count": 12,
   "metadata": {},
   "outputs": [
    {
     "data": {
      "text/plain": [
       "[]"
      ]
     },
     "execution_count": 12,
     "metadata": {},
     "output_type": "execute_result"
    }
   ],
   "source": [
    "# .clear() listeyi siler\n",
    "my_number_list1.clear()\n",
    "my_number_list1  # []\n"
   ]
  },
  {
   "cell_type": "code",
   "execution_count": 18,
   "metadata": {},
   "outputs": [
    {
     "data": {
      "text/plain": [
       "[1, 2, 3, 4]"
      ]
     },
     "execution_count": 18,
     "metadata": {},
     "output_type": "execute_result"
    }
   ],
   "source": [
    "list1 = [1, 2]\n",
    "list2 = [3, 4]\n",
    "list1 + list2  # [1, 2, 3, 4]\n",
    "# gorsel olarak degistirdi\n",
    "\n",
    "#list1 i kalici olarak degistirdi\n",
    "# .extend() listeyi degistir\n",
    "list1.extend(list2)\n",
    "list1  # [1, 2, 3, 4]\n"
   ]
  },
  {
   "cell_type": "code",
   "execution_count": 19,
   "metadata": {},
   "outputs": [
    {
     "name": "stdout",
     "output_type": "stream",
     "text": [
      "[3, 4]\n",
      "[3, 4]\n",
      "2697262002560\n",
      "2697262002560\n"
     ]
    },
    {
     "data": {
      "text/plain": [
       "[3, 4, 5]"
      ]
     },
     "execution_count": 19,
     "metadata": {},
     "output_type": "execute_result"
    }
   ],
   "source": [
    "list1 = list2\n",
    "print(list1) #[3, 4]\n",
    "print(list2) #[3, 4]\n",
    "\n",
    "print(id(list1)) #2697261990272\n",
    "print(id(list2)) #2697261990272\n",
    "\n",
    "list1.append(5)\n",
    "list2 [3, 4, 5]"
   ]
  },
  {
   "cell_type": "code",
   "execution_count": 21,
   "metadata": {},
   "outputs": [
    {
     "data": {
      "text/plain": [
       "[3, 4]"
      ]
     },
     "execution_count": 21,
     "metadata": {},
     "output_type": "execute_result"
    }
   ],
   "source": [
    "list1 = []\n",
    "list2 = [3, 4]\n",
    "\n",
    "# .copy() copyalar kalici olarak\n",
    "list1 = list2.copy()\n",
    "list1  # [3, 4]\n"
   ]
  },
  {
   "cell_type": "code",
   "execution_count": 28,
   "metadata": {},
   "outputs": [
    {
     "ename": "ValueError",
     "evalue": "8 is not in list",
     "output_type": "error",
     "traceback": [
      "\u001b[1;31m---------------------------------------------------------------------------\u001b[0m",
      "\u001b[1;31mValueError\u001b[0m                                Traceback (most recent call last)",
      "\u001b[1;32mc:\\Users\\emirh\\OneDrive\\Desktop\\BackEnd\\Django\\Python-1-\\Ders2.ipynb Cell 7\u001b[0m line \u001b[0;36m9\n\u001b[0;32m      <a href='vscode-notebook-cell:/c%3A/Users/emirh/OneDrive/Desktop/BackEnd/Django/Python-1-/Ders2.ipynb#X10sZmlsZQ%3D%3D?line=6'>7</a>\u001b[0m \u001b[39m# .index() elemanin ilk buldugu index sayisini verir.\u001b[39;00m\n\u001b[0;32m      <a href='vscode-notebook-cell:/c%3A/Users/emirh/OneDrive/Desktop/BackEnd/Django/Python-1-/Ders2.ipynb#X10sZmlsZQ%3D%3D?line=7'>8</a>\u001b[0m list3\u001b[39m.\u001b[39mindex(\u001b[39m2\u001b[39m)  \u001b[39m# 2.index\u001b[39;00m\n\u001b[1;32m----> <a href='vscode-notebook-cell:/c%3A/Users/emirh/OneDrive/Desktop/BackEnd/Django/Python-1-/Ders2.ipynb#X10sZmlsZQ%3D%3D?line=8'>9</a>\u001b[0m list3\u001b[39m.\u001b[39;49mindex(\u001b[39m8\u001b[39;49m) \u001b[39m# hata verir.\u001b[39;00m\n",
      "\u001b[1;31mValueError\u001b[0m: 8 is not in list"
     ]
    }
   ],
   "source": [
    "# .count() aradigin eleman varsa aded sayisini dondurur yoksa 0\n",
    "list1.count(3)  # 1\n",
    "list3 = [1, 1, 2, 3, 5]\n",
    "list3.count(1)  # 2\n",
    "list3.count(8)  # 0\n",
    "\n",
    "# .index() elemanin ilk buldugu index sayisini verir.\n",
    "list3.index(2)  # 2.index\n",
    "list3.index(8) # hata verir."
   ]
  },
  {
   "cell_type": "code",
   "execution_count": 30,
   "metadata": {},
   "outputs": [
    {
     "data": {
      "text/plain": [
       "[5, 3, 4]"
      ]
     },
     "execution_count": 30,
     "metadata": {},
     "output_type": "execute_result"
    }
   ],
   "source": [
    "#.insert(index, sayi)\n",
    "\n",
    "list1.insert(0,5)\n",
    "list1 [5, 3, 4]"
   ]
  },
  {
   "cell_type": "code",
   "execution_count": 33,
   "metadata": {},
   "outputs": [
    {
     "data": {
      "text/plain": [
       "[5, 3]"
      ]
     },
     "execution_count": 33,
     "metadata": {},
     "output_type": "execute_result"
    }
   ],
   "source": [
    "# .pop() listeden son elemani cikarir ve dondurur\n",
    "# list1.pop()\n",
    "list1[5, 3]\n"
   ]
  },
  {
   "cell_type": "code",
   "execution_count": 35,
   "metadata": {},
   "outputs": [
    {
     "data": {
      "text/plain": [
       "[3]"
      ]
     },
     "execution_count": 35,
     "metadata": {},
     "output_type": "execute_result"
    }
   ],
   "source": [
    "# `.remove()` yöntemi bir listeden belirli bir öğeyi kaldırmak için kullanılır.\n",
    "list1.remove(5)  # ilk 5'i cikartir bulamazsa hata verir.\n",
    "list1\n"
   ]
  },
  {
   "cell_type": "code",
   "execution_count": 43,
   "metadata": {},
   "outputs": [
    {
     "data": {
      "text/plain": [
       "['E', 'g', 'i', 'n', 'n']"
      ]
     },
     "execution_count": 43,
     "metadata": {},
     "output_type": "execute_result"
    }
   ],
   "source": [
    "list2 = list('Engin')\n",
    "list2  # ['E', 'n', 'g', 'i', 'n']\n",
    "\n",
    "# .reverse() tersine cevirir.\n",
    "list2.reverse()\n",
    "list2  # ['n', 'i', 'g', 'n', 'E']\n",
    "\n",
    "# .sort() siralar.\n",
    "list2.sort()\n",
    "list2  # ['E', 'g', 'i', 'n', 'n']\n"
   ]
  },
  {
   "cell_type": "code",
   "execution_count": 46,
   "metadata": {},
   "outputs": [
    {
     "data": {
      "text/plain": [
       "3"
      ]
     },
     "execution_count": 46,
     "metadata": {},
     "output_type": "execute_result"
    }
   ],
   "source": [
    "my_list = [\"Apple\", 1, 3.5, True, [1, 3], {\"Ready\": \"yes\"}]\n",
    "\n",
    "my_list[3]  # 3.index numarali sey = True\n",
    "my_list[4]  # [1, 3]\n",
    "my_list[4][1]  # 3\n"
   ]
  },
  {
   "cell_type": "code",
   "execution_count": 51,
   "metadata": {},
   "outputs": [
    {
     "data": {
      "text/plain": [
       "[1, 2, 3]"
      ]
     },
     "execution_count": 51,
     "metadata": {},
     "output_type": "execute_result"
    }
   ],
   "source": [
    "list1 = [\"a\", \"b\", \"c\"]\n",
    "list2 = [1, 2, 3]\n",
    "\n",
    "list1 + list2  # ['a', 'b', 'c', 1, 2, 3]\n",
    "list1 += list2\n",
    "list1  # ['a', 'b', 'c', 1, 2, 3]\n",
    "list2  # [1,2,3]\n"
   ]
  },
  {
   "cell_type": "markdown",
   "metadata": {},
   "source": [
    "Tuple"
   ]
  },
  {
   "cell_type": "code",
   "execution_count": 54,
   "metadata": {},
   "outputs": [
    {
     "data": {
      "text/plain": [
       "tuple"
      ]
     },
     "execution_count": 54,
     "metadata": {},
     "output_type": "execute_result"
    }
   ],
   "source": [
    "my_tuple = ('a',)  # tuple olmasi icin \" , \" sart\n",
    "type(my_tuple)  # tuple\n"
   ]
  },
  {
   "cell_type": "code",
   "execution_count": 62,
   "metadata": {},
   "outputs": [
    {
     "name": "stdout",
     "output_type": "stream",
     "text": [
      "True\n"
     ]
    },
    {
     "data": {
      "text/plain": [
       "5"
      ]
     },
     "execution_count": 62,
     "metadata": {},
     "output_type": "execute_result"
    }
   ],
   "source": [
    "tuple1 = (\"abc\", 34, True, 40, \"male\", 40)\n",
    "print(tuple1[2])  # True\n",
    "tuple1.count(40)  # 2\n",
    "tuple1.count('abc')  # 1\n",
    "tuple1.index(True)  # 2.index\n",
    "tuple1.index(40) # 1.deger 3.indexde\n",
    "tuple1.index(40,4) # 2.deger 5.indexde"
   ]
  },
  {
   "cell_type": "markdown",
   "metadata": {},
   "source": [
    "Dictinory"
   ]
  },
  {
   "cell_type": "code",
   "execution_count": 2,
   "metadata": {},
   "outputs": [
    {
     "data": {
      "text/plain": [
       "'Moruk yanlis yazdin heralde'"
      ]
     },
     "execution_count": 2,
     "metadata": {},
     "output_type": "execute_result"
    }
   ],
   "source": [
    "thisdict = {\n",
    "    \"brand\": \"Ford\",\n",
    "    \"model\": \"Mustang\",\n",
    "    \"Year\": 1964\n",
    "}\n",
    "\n",
    "thisdict[\"brand\"]  # Ford\n",
    "thisdict[\"model\"]  # Mustang\n",
    "thisdict[\"Year\"]   # 1964\n",
    "\n",
    "#.get() metodu hata vermeyi engeller\n",
    "thisdict.get(\"yea\", \"Moruk yanlis yazdin heralde\")"
   ]
  },
  {
   "cell_type": "code",
   "execution_count": 4,
   "metadata": {},
   "outputs": [
    {
     "data": {
      "text/plain": [
       "{'brand': 'Ford', 'model': 'Mustang', 'Year': 2023}"
      ]
     },
     "execution_count": 4,
     "metadata": {},
     "output_type": "execute_result"
    }
   ],
   "source": [
    "thisdict['Year'] = 2023\n",
    "thisdict  # {'brand': 'Ford', 'model': 'Mustang', 'Year': 2023}\n"
   ]
  },
  {
   "cell_type": "code",
   "execution_count": 13,
   "metadata": {},
   "outputs": [
    {
     "ename": "NameError",
     "evalue": "name 'thisdict' is not defined",
     "output_type": "error",
     "traceback": [
      "\u001b[1;31m---------------------------------------------------------------------------\u001b[0m",
      "\u001b[1;31mNameError\u001b[0m                                 Traceback (most recent call last)",
      "\u001b[1;32mc:\\Users\\emirh\\OneDrive\\Desktop\\BackEnd\\Django\\Python-1-\\Ders2.ipynb Cell 20\u001b[0m line \u001b[0;36m3\n\u001b[0;32m      <a href='vscode-notebook-cell:/c%3A/Users/emirh/OneDrive/Desktop/BackEnd/Django/Python-1-/Ders2.ipynb#X25sZmlsZQ%3D%3D?line=0'>1</a>\u001b[0m \u001b[39m# .update()` yöntemi bir sözlüğü başka bir sözlükle güncellemek için kullanılır. İlk sözlük, güncellenecek sözlüktür ve ikinci sözlük, güncelleme için kullanılacak sözlüktür. İkinci sözlükteki anahtarlar, ilk sözlükte yoksa, ilk sözlüğe eklenecektir. İlk sözlükteki anahtarlar, ikinci sözlükte varsa, ilk sözlükteki değerler, ikinci sözlükteki değerlerle güncellenecektir.\u001b[39;00m\n\u001b[1;32m----> <a href='vscode-notebook-cell:/c%3A/Users/emirh/OneDrive/Desktop/BackEnd/Django/Python-1-/Ders2.ipynb#X25sZmlsZQ%3D%3D?line=2'>3</a>\u001b[0m thisdict\u001b[39m.\u001b[39mupdate({\u001b[39m'\u001b[39m\u001b[39mYear\u001b[39m\u001b[39m'\u001b[39m: \u001b[39m1964\u001b[39m, \u001b[39m'\u001b[39m\u001b[39mbrand\u001b[39m\u001b[39m'\u001b[39m: \u001b[39m'\u001b[39m\u001b[39mFord2\u001b[39m\u001b[39m'\u001b[39m, \u001b[39m'\u001b[39m\u001b[39mcolor\u001b[39m\u001b[39m'\u001b[39m: \u001b[39m'\u001b[39m\u001b[39mred\u001b[39m\u001b[39m'\u001b[39m})\n\u001b[0;32m      <a href='vscode-notebook-cell:/c%3A/Users/emirh/OneDrive/Desktop/BackEnd/Django/Python-1-/Ders2.ipynb#X25sZmlsZQ%3D%3D?line=3'>4</a>\u001b[0m thisdict  \u001b[39m# {'brand': 'Ford2', 'model': 'Mustang', 'Year': 1964, 'color': 'red'}\u001b[39;00m\n\u001b[0;32m      <a href='vscode-notebook-cell:/c%3A/Users/emirh/OneDrive/Desktop/BackEnd/Django/Python-1-/Ders2.ipynb#X25sZmlsZQ%3D%3D?line=5'>6</a>\u001b[0m \u001b[39m# .pop() metodu bir listeden eleman kaldırmak için kullanılır.\u001b[39;00m\n",
      "\u001b[1;31mNameError\u001b[0m: name 'thisdict' is not defined"
     ]
    }
   ],
   "source": [
    "# .update()` yöntemi bir sözlüğü başka bir sözlükle güncellemek için kullanılır. İlk sözlük, güncellenecek sözlüktür ve ikinci sözlük, güncelleme için kullanılacak sözlüktür. İkinci sözlükteki anahtarlar, ilk sözlükte yoksa, ilk sözlüğe eklenecektir. İlk sözlükteki anahtarlar, ikinci sözlükte varsa, ilk sözlükteki değerler, ikinci sözlükteki değerlerle güncellenecektir.\n",
    "\n",
    "thisdict.update({'Year': 1964, 'brand': 'Ford2', 'color': 'red'})\n",
    "thisdict  # {'brand': 'Ford2', 'model': 'Mustang', 'Year': 1964, 'color': 'red'}\n",
    "\n",
    "# .pop() metodu bir listeden eleman kaldırmak için kullanılır.\n",
    "\n",
    "thisdict.pop('brand', 'boyle bir key yok')\n",
    "thisdict  # {'model': 'Mustang', 'Year': 1964, 'color': 'red'}\n",
    "\n",
    "# del ... tamamini siler\n",
    "\n",
    "del thisdict['color']\n",
    "thisdict  # {'model': 'Mustang', 'Year': 1964}\n",
    "\n",
    "del thisdict\n",
    "thisdict #tamamini siler\n"
   ]
  },
  {
   "cell_type": "code",
   "execution_count": 2,
   "metadata": {},
   "outputs": [
    {
     "data": {
      "text/plain": [
       "dict_items([('brand', 'Ford'), ('model', 'Mustang'), ('Year', 1964)])"
      ]
     },
     "execution_count": 2,
     "metadata": {},
     "output_type": "execute_result"
    }
   ],
   "source": [
    "thisdict = {\n",
    "    \"brand\": \"Ford\",\n",
    "    \"model\": \"Mustang\",\n",
    "    \"Year\": 1964\n",
    "}\n",
    "\n",
    "# .keys() metodu, sözlüğün anahtarlarını bir liste olarak döndürür. Bu liste, sözlüğün anahtarlarını sıralı bir şekilde içerir.\n",
    "\n",
    "# .values()` metodu, sözlüğün anahtarlarını değil, sadece değerlerini döndürür. Sözlük değerleri, bir liste olarak döndürülür.\n",
    "\n",
    "# .items()` metodunun döndürdüğü görünüm nesnesi, sözlüğün anahtarlarını ve değerlerini yinelemek için kullanılabilir.\n",
    "\n",
    "thisdict.keys() #dict_keys(['brand', 'model', 'Year'])\n",
    "thisdict.values() #dict_values(['Ford', 'Mustang', 1964])\n",
    "thisdict.items() #dict_items([('brand', 'Ford'), ('model', 'Mustang'), ('Year', 1964)])"
   ]
  },
  {
   "cell_type": "code",
   "execution_count": 8,
   "metadata": {},
   "outputs": [
    {
     "data": {
      "text/plain": [
       "{'Banana', 'Cherry', 'Orange', 'Tomato'}"
      ]
     },
     "execution_count": 8,
     "metadata": {},
     "output_type": "execute_result"
    }
   ],
   "source": [
    "my_set = {1, 3, 'elma '}  # bos olunca dict oldu doluyken set oluyor\n",
    "type(my_set)  # set\n",
    "my_new_set = set()\n",
    "type(my_new_set)  # set\n",
    "my_new_set  # set()\n",
    "\n",
    "\n",
    "thisset = {\"Apple\", \"Banana\", \"Cherry\"}\n",
    "# eklemek icin .add()\n",
    "thisset.add('Orange')  # {'Apple', 'Banana', 'Cherry', 'Orange'}\n",
    "thisset.add('Tomato')  # {'Apple', 'Banana', 'Cherry', 'Orange', 'Tomato'}\n",
    "# cikartmak icin .remove()\n",
    "thisset.remove('Apple')  # {'Banana', 'Cherry', 'Orange', 'Tomato'}\n",
    "thisset.remove('App', 'Boyle bir eleman yok')  # Hata verir.\n",
    "\n"
   ]
  },
  {
   "cell_type": "code",
   "execution_count": 22,
   "metadata": {},
   "outputs": [
    {
     "data": {
      "text/plain": [
       "{1, 2, 3, 10, 32, 100}"
      ]
     },
     "execution_count": 22,
     "metadata": {},
     "output_type": "execute_result"
    }
   ],
   "source": [
    "a = {1, 2, 3, 10, 32, 100}\n",
    "b = {1, 2, 30}\n",
    "\n",
    "# a nin b den farki\n",
    "a.difference(b)  # {3, 10, 32, 100}\n",
    "# a nin b ile kesistigi yerler\n",
    "a.intersection(b)  # {1, 2}\n",
    "# a ve b yi birlestirir\n",
    "a.union(b)  # {1, 2, 3, 10, 30, 32, 100}\n",
    "a\n"
   ]
  },
  {
   "cell_type": "code",
   "execution_count": 29,
   "metadata": {},
   "outputs": [
    {
     "data": {
      "text/plain": [
       "{1, 2, 3, 10, 30, 32, 100}"
      ]
     },
     "execution_count": 29,
     "metadata": {},
     "output_type": "execute_result"
    }
   ],
   "source": [
    "a = {1, 2, 3, 10, 32, 100}\n",
    "b = {1, 2, 30}\n",
    "\n",
    "a | b  # {1, 2, 3, 10, 30, 32, 100}\n"
   ]
  },
  {
   "cell_type": "code",
   "execution_count": null,
   "metadata": {},
   "outputs": [],
   "source": []
  }
 ],
 "metadata": {
  "kernelspec": {
   "display_name": "Python 3",
   "language": "python",
   "name": "python3"
  },
  "language_info": {
   "codemirror_mode": {
    "name": "ipython",
    "version": 3
   },
   "file_extension": ".py",
   "mimetype": "text/x-python",
   "name": "python",
   "nbconvert_exporter": "python",
   "pygments_lexer": "ipython3",
   "version": "3.11.3"
  },
  "orig_nbformat": 4
 },
 "nbformat": 4,
 "nbformat_minor": 2
}
